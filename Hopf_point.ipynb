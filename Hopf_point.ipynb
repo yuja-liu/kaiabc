{
 "cells": [
  {
   "cell_type": "code",
   "execution_count": 7,
   "id": "4cb0cc63",
   "metadata": {},
   "outputs": [],
   "source": [
    "include(\"src/Models.jl\")\n",
    "include(\"src/Params.jl\")\n",
    "include(\"src/Utils.jl\")\n",
    "using DifferentialEquations\n",
    "using Plots; gr()\n",
    "using Optimization\n",
    "using OptimizationOptimJL\n",
    "using Zygote"
   ]
  },
  {
   "cell_type": "code",
   "execution_count": 86,
   "id": "675143a7",
   "metadata": {},
   "outputs": [],
   "source": [
    "# params\n",
    "\n",
    "A0 = 1.0\n",
    "fATP = 1.0\n",
    "p_rest = [kUTA, kTU, kTUA, kTDA, kDT, kDTA, kDS, kDSA, kSDA, kSU, kSUA, kUSA, kCIhyd,\n",
    "     KA, A0, fATP, N, M]\n",
    "tau = 6.0\n",
    "U0 = 3.5\n",
    "p = [p_rest..., tau, U0];"
   ]
  },
  {
   "cell_type": "markdown",
   "id": "290d8f3c",
   "metadata": {},
   "source": [
    "For performance the right-hand-side functions are written with in-place assignment of the derivatives,\n",
    "which necessarily involves array mutating.\n",
    "AD doesn't like array mutating. We can use `Zygote.Buffer` to bypass (which creates\n",
    "immutable copy of `dx`)"
   ]
  },
  {
   "cell_type": "code",
   "execution_count": 75,
   "id": "9d76d7cb",
   "metadata": {
    "scrolled": true
   },
   "outputs": [
    {
     "data": {
      "text/plain": [
       "6×6 Matrix{Float64}:\n",
       " -0.513553    0.234615   0.0         0.0307692   0.0414201   1.27337\n",
       "  0.346154   -0.505861   0.103846    0.0         0.0576923  -1.38462\n",
       "  0.0         0.138462  -0.478938    0.346154   -0.0189349  -0.568047\n",
       "  0.0346154   0.0        0.0923077  -0.659707    0.0201183   0.60355\n",
       "  0.0         0.0        0.15        0.0        -0.332488    0.239645\n",
       "  0.0         0.0        0.0         0.15        0.0994083  -0.296689"
      ]
     },
     "execution_count": 75,
     "metadata": {},
     "output_type": "execute_result"
    }
   ],
   "source": [
    "function kaiabc_growing_out(x, p)\n",
    "    # Buffer bypasses the limitation of mutable arrays\n",
    "    # see https://fluxml.ai/Zygote.jl/latest/limitations/\n",
    "    # and https://discourse.julialang.org/t/how-to-use-initialize-zygote-buffer/87653\n",
    "    dx = Zygote.Buffer(x)\n",
    "    kaiabc_growing!(dx, x, p, 0)\n",
    "    copy(dx)\n",
    "end\n",
    "\n",
    "x0 = [1.5, 0, 1.0, 0.5, 0.5, 0]\n",
    "\n",
    "# jacobian supports list of input vectors\n",
    "jac1 = jacobian(x -> kaiabc_growing_out(x, p), x0)[1]"
   ]
  },
  {
   "cell_type": "markdown",
   "id": "250aa018",
   "metadata": {},
   "source": [
    "Numerically compute the Jacobian by finite differentiation.\n",
    "We'll compare the result with that obtained by AD for a sanity check"
   ]
  },
  {
   "cell_type": "code",
   "execution_count": 33,
   "id": "0f047538",
   "metadata": {},
   "outputs": [],
   "source": [
    "using FiniteDiff"
   ]
  },
  {
   "cell_type": "code",
   "execution_count": 47,
   "id": "1443646b",
   "metadata": {},
   "outputs": [
    {
     "data": {
      "text/plain": [
       "6×6 Matrix{Float64}:\n",
       " -0.496294    0.234615   0.0         0.0307692   0.0414201   1.27337\n",
       "  0.346154   -0.488601   0.103846    0.0         0.0576923  -1.38462\n",
       "  0.0         0.138462  -0.461678    0.346154   -0.0189349  -0.568047\n",
       "  0.0346154   0.0        0.0923077  -0.642448    0.0201183   0.60355\n",
       "  0.0         0.0        0.15        0.0        -0.315229    0.239645\n",
       "  0.0         0.0        0.0         0.15        0.0994083  -0.27943"
      ]
     },
     "execution_count": 47,
     "metadata": {},
     "output_type": "execute_result"
    }
   ],
   "source": [
    "jac2 = zeros(6, 6)\n",
    "FiniteDiff.finite_difference_jacobian!(jac2, (dx, x) -> kaiabc_growing!(dx, x, p, 0), x0)\n",
    "jac2"
   ]
  },
  {
   "cell_type": "code",
   "execution_count": 56,
   "id": "4f261364",
   "metadata": {},
   "outputs": [
    {
     "data": {
      "text/plain": [
       "true"
      ]
     },
     "execution_count": 56,
     "metadata": {},
     "output_type": "execute_result"
    }
   ],
   "source": [
    "all(@. abs(jac1 - jac2) < 1e-6)"
   ]
  },
  {
   "cell_type": "markdown",
   "id": "469bbe41",
   "metadata": {},
   "source": [
    "Now, we are certain that our code get the correct Jacobian by doing the chain rule under the hood.\n",
    "\n",
    "The next steps are clear: Find the fixed point. Get the eigenvalues of the jacobian about the fixed point, and find the complex conjugates"
   ]
  },
  {
   "cell_type": "code",
   "execution_count": 10,
   "id": "d24e6889",
   "metadata": {},
   "outputs": [
    {
     "data": {
      "text/plain": [
       "u: 6-element Vector{Float64}:\n",
       " 2.0468695778466963\n",
       " 0.9019173900635465\n",
       " 0.16233419549953354\n",
       " 0.13347414494467297\n",
       " 0.12628430029831872\n",
       " 0.1283808034604627"
      ]
     },
     "execution_count": 10,
     "metadata": {},
     "output_type": "execute_result"
    }
   ],
   "source": [
    "function vec_mag(x, p)\n",
    "    dx = similar(x)\n",
    "    kaiabc_growing!(dx, x, p, 0)\n",
    "    sum(dx.^2)\n",
    "end\n",
    "\n",
    "x0 = [3.5, zeros(5)...]\n",
    "prob = OptimizationProblem(vec_mag, x0, p)\n",
    "sol = solve(prob, NelderMead())"
   ]
  },
  {
   "cell_type": "code",
   "execution_count": 12,
   "id": "1fa11aba",
   "metadata": {},
   "outputs": [
    {
     "data": {
      "text/plain": [
       "6-element Vector{Float64}:\n",
       "  4.258116454225469e-5\n",
       " -2.444431225533117e-5\n",
       "  2.111928050762754e-5\n",
       " -2.047901856545853e-6\n",
       " -4.301884941999845e-6\n",
       "  5.253419708580766e-5"
      ]
     },
     "execution_count": 12,
     "metadata": {},
     "output_type": "execute_result"
    }
   ],
   "source": [
    "dx = similar(sol.u)\n",
    "kaiabc_growing!(dx, sol.u, p, 0)\n",
    "dx"
   ]
  },
  {
   "cell_type": "markdown",
   "id": "241a259d",
   "metadata": {},
   "source": [
    "Here's the fixed point! Let's find the eigenvalues about it, and tune the doubling time until\n",
    "the real part crosses 0"
   ]
  },
  {
   "cell_type": "code",
   "execution_count": 14,
   "id": "68302e9d",
   "metadata": {},
   "outputs": [
    {
     "data": {
      "text/plain": [
       "6-element Vector{ComplexF64}:\n",
       "  -0.724000245359546 - 0.12965447032803545im\n",
       "  -0.724000245359546 + 0.12965447032803545im\n",
       " -0.4199241208371327 + 0.0im\n",
       " -0.1155245300933241 + 0.0im\n",
       " 0.05927385634204332 - 0.3712380325803743im\n",
       " 0.05927385634204332 + 0.3712380325803743im"
      ]
     },
     "execution_count": 14,
     "metadata": {},
     "output_type": "execute_result"
    }
   ],
   "source": [
    "jac = jacobian(f, sol.u)[1]\n",
    "eigvals(jac)"
   ]
  },
  {
   "cell_type": "code",
   "execution_count": 87,
   "id": "bc469bbf",
   "metadata": {},
   "outputs": [
    {
     "data": {
      "text/plain": [
       "5.385546875000001"
      ]
     },
     "execution_count": 87,
     "metadata": {},
     "output_type": "execute_result"
    }
   ],
   "source": [
    "function real_eig(_tau)\n",
    "    # param\n",
    "    _p = [p_rest..., _tau, U0]\n",
    "    \n",
    "    # find fixed point\n",
    "    x0 = [3.5, zeros(5)...]\n",
    "    prob = OptimizationProblem(vec_mag, x0, _p)\n",
    "    fp = solve(prob, NelderMead(), reltol=1e-8).u\n",
    "    \n",
    "    # linearize about the fixed point\n",
    "    jac = jacobian(x -> kaiabc_growing_out(x, _p), fp)[1]\n",
    "    \n",
    "    # eigenvalue and get Re\n",
    "    ev = eigvals(jac)\n",
    "    real(ev[6])\n",
    "end\n",
    "\n",
    "tau0 = 6.0\n",
    "prob = OptimizationProblem((x, p) -> real_eig(x[1])^2, [tau0], 0)\n",
    "sol = solve(prob, NelderMead(), reltol=1e-8)\n",
    "tau_hopf = sol.u[1]"
   ]
  },
  {
   "cell_type": "markdown",
   "id": "7ddeac4f",
   "metadata": {},
   "source": [
    "Double-check the real part indead crosses 0"
   ]
  },
  {
   "cell_type": "code",
   "execution_count": 88,
   "id": "c980596e",
   "metadata": {},
   "outputs": [
    {
     "name": "stdout",
     "output_type": "stream",
     "text": [
      "[1.976941227655834, 0.9379329321953622, 0.18853096062166647, 0.1367241129647187, 0.13832828591135393, 0.12051951769142058]"
     ]
    },
    {
     "data": {
      "text/plain": [
       "6-element Vector{ComplexF64}:\n",
       "   -0.7571322795291402 - 0.13800763117632947im\n",
       "   -0.7571322795291402 + 0.13800763117632947im\n",
       "   -0.4371739987975799 + 0.0im\n",
       "  -0.12870506870482792 + 0.0im\n",
       " 0.0021527613855660058 - 0.34418804056237645im\n",
       " 0.0021527613855660058 + 0.34418804056237645im"
      ]
     },
     "execution_count": 88,
     "metadata": {},
     "output_type": "execute_result"
    }
   ],
   "source": [
    "p = [p_rest..., tau_hopf, U0]\n",
    "\n",
    "# find fixed point\n",
    "x0 = [3.5, zeros(5)...]\n",
    "prob = OptimizationProblem(vec_mag, x0, p)\n",
    "fp = solve(prob, NelderMead(), reltol=1e-8).u\n",
    "print(fp)\n",
    "\n",
    "# linearize about the fixed point\n",
    "jac = jacobian(kaiabc_growing_out, fp)[1]\n",
    "\n",
    "# eigenvalue and get Re\n",
    "ev = eigvals(jac)\n"
   ]
  }
 ],
 "metadata": {
  "@webio": {
   "lastCommId": null,
   "lastKernelId": null
  },
  "kernelspec": {
   "display_name": "Julia 1.8.5",
   "language": "julia",
   "name": "julia-1.8"
  },
  "language_info": {
   "file_extension": ".jl",
   "mimetype": "application/julia",
   "name": "julia",
   "version": "1.8.5"
  }
 },
 "nbformat": 4,
 "nbformat_minor": 5
}

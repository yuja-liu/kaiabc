{
 "cells": [
  {
   "cell_type": "code",
   "execution_count": 1,
   "id": "b23a5271",
   "metadata": {},
   "outputs": [],
   "source": [
    "using DifferentialEquations\n",
    "include(\"src/Utils.jl\")\n",
    "include(\"src/Models.jl\")\n",
    "include(\"src/Params.jl\");\n",
    "using Plots; pythonplot();\n",
    "using Statistics\n",
    "using Contour"
   ]
  },
  {
   "cell_type": "code",
   "execution_count": 2,
   "id": "b5cdd033",
   "metadata": {},
   "outputs": [
    {
     "data": {
      "text/plain": [
       "kaiabc_phong_low_temp3!"
      ]
     },
     "execution_count": 2,
     "metadata": {},
     "output_type": "execute_result"
    }
   ],
   "source": [
    "\"\"\"\n",
    "At low temperatures kSU can be different from kSUB. See Axmann et al. 2004 Fig. 4 and Gopal's preliminary data\n",
    "\"\"\"\n",
    "function kaiabc_phong_low_temp3!(dX, X, p, t)\n",
    "\n",
    "    # U: unphosphorylated. T: only T432 phosphorylated. S: only S431 phosphorylated\n",
    "    # D: doubly phosphorylated. DB: D KaiC bound with KaiB. SB: S KaiC bound with KaiB\n",
    "    U, T, D, S, DB, SB = X\n",
    "\n",
    "    # k's are reaction constants (here all are 1st-order), e.g., \n",
    "    # kTU is the per reactant rate transfering from T to U\n",
    "    # kCIhyd: ATP hydrolysis rate of the CI ring\n",
    "    # KA: [KaiA] that activates kinase activity to half maximum\n",
    "    # A0: initial [KaiA]\n",
    "    # fATP = [ATP] / ([ATP] + [ADP])\n",
    "    # N: # A sequestered per D. M: # A sequestered per S\n",
    "    # note that this model does not include K_ASB\n",
    "    kUTA, kTU, kTUA, kTDA, kDT, kDTA, kDS, kDSA, kSDA, kSU, kSUA, kUSA, kCIhyd,\n",
    "    KA, A0, fATP, N, M, K_ASB, κ, ν = p\n",
    "\n",
    "    hill(x) = x/(x + KA)\n",
    "\n",
    "    # More realistic KaiA binding with a Kd\n",
    "    # !!Ignored sequestration of KaiA by DB\n",
    "    A = A0*(κ^ν/(κ^ν + (SB)^ν))    # free KaiA\n",
    "    \n",
    "    #           U,      T,      D,      S,      DB,     SB\n",
    "    dephos_r  = [0      kTU     0       kSU     0       kSU\n",
    "                 0      0       kDT     0       kDT     0\n",
    "                 0      0       0       0       0       0\n",
    "                 0      0       kDS     0       0       0\n",
    "                 0      0       0       0       0       0\n",
    "                 0      0       0       0       kDS     0] +\n",
    "                [0      kTUA    0       kSUA    0       kSUA\n",
    "                 0      0       kDTA    0       kDTA    0\n",
    "                 0      0       0       0       0       0\n",
    "                 0      0       kDSA    0       0       0\n",
    "                 0      0       0       0       0       0\n",
    "                 0      0       0       0       kDSA    0]*hill(A)\n",
    "    \n",
    "    #         U     T       D       S       DB      SB\n",
    "    phos_r = [0     0       0       0       0       0\n",
    "              kUTA  0       0       0       0       0\n",
    "              0     kTDA    0       kSDA    0       0\n",
    "              kUSA  0       0       0       0       0\n",
    "              0     0       0       0       0       kSDA\n",
    "              0     0       0       0       0       0]*hill(A)*fATP\n",
    "\n",
    "    #        U      T       D       S       DB      SB\n",
    "    hyd_r = [0      0       0       0       0       0\n",
    "             0      0       0       0       0       0\n",
    "             0      0       0       0       0       0\n",
    "             0      0       0       0       0       0\n",
    "             0      0       kCIhyd  0       0       0\n",
    "             0      0       0       kCIhyd  0       0]\n",
    "\n",
    "    r = dephos_r + phos_r + hyd_r\n",
    "\n",
    "    # conservation\n",
    "    r -= I(size(r)[1]) .* sum(r, dims=1)\n",
    "\n",
    "    # (for AD) Zygote.Buffer doesn't support in-place broadcast .=\n",
    "    # see https://discourse.julialang.org/t/how-to-use-initialize-zygote-buffer/87653\n",
    "    dX[:] = r*X\n",
    "    nothing\n",
    "end"
   ]
  },
  {
   "cell_type": "code",
   "execution_count": 4,
   "id": "02e993a1",
   "metadata": {},
   "outputs": [
    {
     "data": {
      "text/plain": [
       "(0.016800000000000002, -1, -1, -1)"
      ]
     },
     "execution_count": 4,
     "metadata": {},
     "output_type": "execute_result"
    }
   ],
   "source": [
    "κ = 0.06\n",
    "ν = 9.\n",
    "\n",
    "fATP = 1.\n",
    "A0 = 1.\n",
    "\n",
    "M_new = 6.\n",
    "K_ASB = 0.1\n",
    "\n",
    "u0 = [3.5, 0, 0, 0, 0, 0]\n",
    "        \n",
    "        p = (kUTA, kTU, kTUA, kTDA, kDT, kDTA, kDS, kDSA, kSDA, 0.03, kSUA, kUSA, kCIhyd,\n",
    "        KA, A0, fATP, 0., M_new, K_ASB, κ, ν)\n",
    "        \n",
    "        # solve it one more time to get mean fraction of pC\n",
    "        prob = ODEProblem(kaiabc_phong_low_temp3!, u0, (0.0, 200), p)\n",
    "        sol = solve(prob, Tsit5(), reltol=1e-8, abstol=1e-8)\n",
    "\n",
    "conv_t, amplitude, per, phase = \n",
    "            attracted_to(kaiabc_phong_low_temp3!, u0, 168, p; \n",
    "            burnin=96, conv_tol=5e-2, amp_cutoff=5e-2, tmax_stop=1e3)"
   ]
  }
 ],
 "metadata": {
  "@webio": {
   "lastCommId": null,
   "lastKernelId": null
  },
  "kernelspec": {
   "display_name": "Julia 1.10.3",
   "language": "julia",
   "name": "julia-1.10"
  },
  "language_info": {
   "file_extension": ".jl",
   "mimetype": "application/julia",
   "name": "julia",
   "version": "1.10.3"
  }
 },
 "nbformat": 4,
 "nbformat_minor": 5
}
